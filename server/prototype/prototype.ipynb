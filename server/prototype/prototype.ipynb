{
 "cells": [
  {
   "cell_type": "code",
   "execution_count": 127,
   "metadata": {},
   "outputs": [],
   "source": [
    "import os\n",
    "\n",
    "os.environ[\"openai_api_key\"] = \"\""
   ]
  },
  {
   "cell_type": "code",
   "execution_count": null,
   "metadata": {},
   "outputs": [],
   "source": [
    "%pip install -qU langchain-openai\n",
    "%pip install pypdf\n",
    "%pip install -qU langchain-text-splitters\n",
    "%pip install openai\n",
    "%pip install --upgrade --quiet langchain-text-splitters tiktoken"
   ]
  },
  {
   "cell_type": "code",
   "execution_count": 128,
   "metadata": {},
   "outputs": [],
   "source": [
    "from langchain_community.document_loaders import PyPDFLoader\n",
    "\n",
    "loader = PyPDFLoader(\"./data/OperatingSystems.pdf\")\n",
    "data = loader.load()\n",
    "out=\"\"\n",
    "\n",
    "for d in data:\n",
    "    out+=d.page_content"
   ]
  },
  {
   "cell_type": "code",
   "execution_count": 129,
   "metadata": {},
   "outputs": [
    {
     "data": {
      "text/plain": [
       "140808"
      ]
     },
     "execution_count": 129,
     "metadata": {},
     "output_type": "execute_result"
    }
   ],
   "source": [
    "len(out)"
   ]
  },
  {
   "cell_type": "code",
   "execution_count": 130,
   "metadata": {},
   "outputs": [],
   "source": [
    "from langchain_text_splitters import RecursiveCharacterTextSplitter\n",
    "\n",
    "text_splitter = RecursiveCharacterTextSplitter.from_tiktoken_encoder(\n",
    "    model_name=\"gpt-4\",\n",
    "    chunk_size=3500,\n",
    "    chunk_overlap=0,\n",
    ")\n",
    "texts = text_splitter.split_text(out)\n"
   ]
  },
  {
   "cell_type": "code",
   "execution_count": 131,
   "metadata": {},
   "outputs": [
    {
     "data": {
      "text/plain": [
       "11"
      ]
     },
     "execution_count": 131,
     "metadata": {},
     "output_type": "execute_result"
    }
   ],
   "source": [
    "len(texts)"
   ]
  },
  {
   "cell_type": "code",
   "execution_count": 132,
   "metadata": {},
   "outputs": [],
   "source": [
    "from langchain_openai import ChatOpenAI\n",
    "llm = ChatOpenAI(model=\"gpt-3.5-turbo-0125\", temperature=0.5)"
   ]
  },
  {
   "cell_type": "code",
   "execution_count": 133,
   "metadata": {},
   "outputs": [],
   "source": [
    "messages = [\n",
    "    (\"system\", \"\"\"You are an expert flashcard generator given the user input output 10 flashcards \n",
    "     containing question answer and a short explanation return the response in \n",
    "     json such that the output can be directly parsed to python dictionary\n",
    "     \"\"\"),\n",
    "    (\"human\", texts[2]),\n",
    "]\n",
    "json_response = llm.invoke(messages)"
   ]
  },
  {
   "cell_type": "code",
   "execution_count": 134,
   "metadata": {},
   "outputs": [],
   "source": [
    "import json\n",
    "\n",
    "response = json.loads(res.content)['flashcards']"
   ]
  },
  {
   "cell_type": "code",
   "execution_count": 135,
   "metadata": {},
   "outputs": [
    {
     "name": "stdout",
     "output_type": "stream",
     "text": [
      "1.What are the main disadvantages of the layered approach in operating systems?\n",
      "Answer: The main difficulty with this approach involves the careful definition of the layers, and it is less efficient than a non-layered system.\n",
      "Explanation: In a layered approach, each layer adds overhead to the system call, making system calls take longer than on a non-layered system. Additionally, defining layers such that each layer can only use those below it can be challenging.\n",
      "\n",
      "2.How do virtual machines create the illusion of multiple processes in an operating system?\n",
      "Answer: By using CPU scheduling and virtual memory techniques, an operating system can create the appearance of multiple processes, each executing on its own processor and virtual memory.\n",
      "Explanation: Virtual machines allow the sharing of computer resources to create multiple isolated environments, each with its own virtual copy of the underlying hardware.\n",
      "\n",
      "3.What is the role of an I/O Interrupt in a computer system?\n",
      "Answer: An I/O Interrupt is used to inform the CPU that an I/O operation has been finished.\n",
      "Explanation: When an I/O operation is started, the device controller informs the CPU upon completion, allowing the CPU to continue with other operations.\n",
      "\n",
      "4.What is the purpose of a DMA controller in I/O operations?\n",
      "Answer: A DMA controller is used for high-speed I/O devices to transfer entire blocks of data between buffer storage and memory.\n",
      "Explanation: DMA controllers help offload data transfer tasks from the CPU, allowing it to perform other operations while data is being transferred.\n",
      "\n",
      "5.What are the two types of memory in a computer system?\n",
      "Answer: The two types of memory are main memory and secondary memory.\n",
      "Explanation: Main memory is used for temporary storage during program execution, while secondary memory provides permanent storage for programs and data.\n",
      "\n",
      "6.What are the various services provided by an operating system?\n",
      "Answer: Operating systems provide services such as program execution, I/O operations, file system manipulation, communication, error detection, resource allocation, accounting, and protection.\n",
      "Explanation: These services ensure that programs can run effectively, access resources, communicate, and maintain security within the system.\n",
      "\n",
      "7.What is a process in the context of operating systems?\n",
      "Answer: A process is an instance of a program in execution, including program counter, registers, process stack, and data section.\n",
      "Explanation: Processes execute sequentially, changing states as they progress through execution, and can be in states like new, ready, running, waiting, or terminated.\n",
      "\n",
      "8.What is process scheduling and why is it essential in an operating system?\n",
      "Answer: Process scheduling is the function of selecting which process to execute next when multiple processes are competing for the CPU. It is essential in multiprogrammed systems.\n",
      "Explanation: Scheduling ensures fair allocation of CPU resources among processes, determining when each process should run and for how long.\n",
      "\n",
      "9.What are the different states a process can be in during its execution?\n",
      "Answer: A process can be in states like new, ready, running, waiting, or terminated during its execution.\n",
      "Explanation: Each state represents a different stage of the process lifecycle, from creation to termination, with waiting indicating a pause for an event to occur.\n",
      "\n",
      "10.What are the main storage structures in a computer system?\n",
      "Answer: The main storage structures are main memory and secondary memory, with main memory used for temporary data storage and secondary memory for permanent storage.\n",
      "Explanation: Main memory provides direct access for the CPU, while secondary memory like magnetic disks and tapes offer larger, non-volatile storage capabilities.\n",
      "\n"
     ]
    }
   ],
   "source": [
    "i=0\n",
    "for _,a,e in response:\n",
    "    \n",
    "    print('{idx}.{question}\\nAnswer: {answer}\\nExplanation: {explanation}\\n'.format(idx=i+1,question=response[i]['question'],answer=response[i]['answer'],explanation=response[i]['explanation']))\n",
    "    i+=1"
   ]
  }
 ],
 "metadata": {
  "kernelspec": {
   "display_name": "flash-card-app",
   "language": "python",
   "name": "python3"
  },
  "language_info": {
   "codemirror_mode": {
    "name": "ipython",
    "version": 3
   },
   "file_extension": ".py",
   "mimetype": "text/x-python",
   "name": "python",
   "nbconvert_exporter": "python",
   "pygments_lexer": "ipython3",
   "version": "3.12.2"
  }
 },
 "nbformat": 4,
 "nbformat_minor": 2
}
